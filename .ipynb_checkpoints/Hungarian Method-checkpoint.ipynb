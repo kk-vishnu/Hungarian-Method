{
 "cells": [
  {
   "cell_type": "markdown",
   "metadata": {},
   "source": [
    "# <H1>Assignment Problem implemented using Hungarian Method</H1>"
   ]
  },
  {
   "cell_type": "markdown",
   "metadata": {},
   "source": [
    "Refer these:\n",
    "<br>\n",
    "https://en.wikipedia.org/wiki/Hungarian_algorithm \n",
    "<br>\n",
    "https://www.youtube.com/watch?v=rrfFTdO2Z7I"
   ]
  },
  {
   "cell_type": "code",
   "execution_count": 1,
   "metadata": {},
   "outputs": [],
   "source": [
    "import sys"
   ]
  },
  {
   "cell_type": "code",
   "execution_count": 2,
   "metadata": {},
   "outputs": [],
   "source": [
    "#Function to print a matrix\n",
    "def print_matrix(matrix):\n",
    "\tfor i in range(n):\n",
    "\t\tfor j in range(n):\n",
    "\t\t\tprint(matrix[i][j],end=' ');\n",
    "\t\tprint()\n",
    "        "
   ]
  },
  {
   "cell_type": "code",
   "execution_count": 3,
   "metadata": {},
   "outputs": [],
   "source": [
    "#Function for row reduction\n",
    "def row_reduction(matrix):\n",
    "\tfor i in range(n):\n",
    "\t\tminidx=0\n",
    "\t\tfor j in range(1,n):\n",
    "\t\t\tif matrix[i][j]<matrix[i][minidx]:\n",
    "\t\t\t\tminidx=j;\n",
    "\t\tminele=matrix[i][minidx]\n",
    "\t\tfor j in range(n):\n",
    "\t\t\tmatrix[i][j]=matrix[i][j]-minele;\n",
    "\treturn matrix\n"
   ]
  },
  {
   "cell_type": "code",
   "execution_count": 4,
   "metadata": {},
   "outputs": [],
   "source": [
    "#Function for column reduction\n",
    "def column_reduction(matrix):\n",
    "\tfor j in range(n):\n",
    "\t\tminidx=0\n",
    "\t\tfor i in range(1,n):\n",
    "\t\t\tif matrix[i][j]<matrix[minidx][j]:\n",
    "\t\t\t\tminidx=i\n",
    "\t\tminele=matrix[minidx][j]\n",
    "\t\tfor i in range(n):\n",
    "\t\t\tmatrix[i][j]=matrix[i][j]-minele\n",
    "\treturn matrix\n"
   ]
  },
  {
   "cell_type": "code",
   "execution_count": 5,
   "metadata": {},
   "outputs": [
    {
     "name": "stdout",
     "output_type": "stream",
     "text": [
      "Enter rows: 5\n",
      "Enter the matrix:\n",
      "9\n",
      "11\n",
      "14\n",
      "11\n",
      "7\n",
      "6\n",
      "15\n",
      "13\n",
      "13\n",
      "10\n",
      "12\n",
      "13\n",
      "6\n",
      "8\n",
      "8\n",
      "11\n",
      "9\n",
      "10\n",
      "12\n",
      "9\n",
      "7\n",
      "12\n",
      "14\n",
      "10\n",
      "14\n",
      "\n",
      "The matrix:\n",
      "9 11 14 11 7 \n",
      "6 15 13 13 10 \n",
      "12 13 6 8 8 \n",
      "11 9 10 12 9 \n",
      "7 12 14 10 14 \n"
     ]
    }
   ],
   "source": [
    "#Taking input\n",
    "print(\"Enter rows: \",end='')\n",
    "n=int(input())\n",
    "m=n\n",
    "mat=[]\n",
    "\n",
    "print(\"Enter the matrix:\")\n",
    "for i in range(n):\n",
    "\ttemp=[]\n",
    "\tfor j in range(n):\n",
    "\t\ttemp.append(int(input()));\n",
    "\tmat.append(temp)\n",
    "\n",
    "copy_mat=mat\n",
    "\n",
    "print(\"\\nThe matrix:\")\n",
    "print_matrix(mat)\t\t"
   ]
  },
  {
   "cell_type": "code",
   "execution_count": 7,
   "metadata": {},
   "outputs": [
    {
     "name": "stdout",
     "output_type": "stream",
     "text": [
      "\n",
      "Matrix after row reductions:\n",
      "2 4 7 2 0 \n",
      "0 9 7 5 4 \n",
      "6 7 0 0 2 \n",
      "2 0 1 1 0 \n",
      "0 5 7 1 7 \n",
      "\n",
      "Matrix after column reductions:\n",
      "2 4 7 2 0 \n",
      "0 9 7 5 4 \n",
      "6 7 0 0 2 \n",
      "2 0 1 1 0 \n",
      "0 5 7 1 7 \n"
     ]
    }
   ],
   "source": [
    "#Perfoming row and column reductions\n",
    "print(\"\\nMatrix after row reductions:\")\t\n",
    "mat=row_reduction(mat)\n",
    "print_matrix(mat)\n",
    "\n",
    "print(\"\\nMatrix after column reductions:\")\n",
    "mat=column_reduction(mat)\n",
    "print_matrix(mat)"
   ]
  },
  {
   "cell_type": "code",
   "execution_count": 9,
   "metadata": {},
   "outputs": [
    {
     "name": "stdout",
     "output_type": "stream",
     "text": [
      "Matrix rn:\n",
      "[[2, 4, 7, 2, 0], [0, 9, 7, 5, 4], [6, 7, 0, 0, 2], [2, 0, 1, 1, 0], [0, 5, 7, 1, 7]]\n",
      "Matrix rn:\n",
      "[[2, 4, 6, 1, 0], [0, 9, 6, 4, 4], [7, 8, 0, 0, 3], [2, 0, 0, 0, 0], [0, 5, 6, 0, 7]]\n",
      "lol\n"
     ]
    }
   ],
   "source": [
    "covered_zeros=0\n",
    "while 1:\n",
    "    if covered_zeros==n:\n",
    "        break\n",
    "    print(\"Matrix rn:\")\n",
    "    print(mat)\n",
    "    disabled_rows=[]\n",
    "    disabled_columns=[]\n",
    "    soln=[]\n",
    "    \n",
    "    #Row Scanning\n",
    "    for i in range(n):\n",
    "        zeros_in_row=0\n",
    "        zero_index=0\n",
    "        j=0\n",
    "        while j<n:\n",
    "            if j in disabled_columns:\n",
    "                j=j+1\n",
    "                continue\n",
    "            if mat[i][j]==0:\n",
    "                zeros_in_row=zeros_in_row+1;\n",
    "                zero_index=j\n",
    "            j=j+1            \n",
    "        if zeros_in_row==1:\n",
    "            soln.append((i,zero_index))\n",
    "            disabled_columns.append(zero_index)\n",
    "            \n",
    "    if len(soln)==n:\n",
    "        covered_zeros=n\n",
    "        continue\n",
    "        \n",
    "    #Column Scanning\n",
    "    for j in range(n):\n",
    "        if j in disabled_columns:\n",
    "            continue\n",
    "        zeros_in_column=0\n",
    "        zero_index=0\n",
    "        i=0\n",
    "        while i<n:\n",
    "            if i in disabled_rows:\n",
    "                i=i+1\n",
    "                continue\n",
    "            if mat[i][j]==0:\n",
    "                zeros_in_column=zeros_in_column+1\n",
    "                zero_index=i\n",
    "            i=i+1\n",
    "        if zeros_in_column==1:\n",
    "            soln.append((zero_index,j))\n",
    "            disabled_rows.append(zero_index)\n",
    "            \n",
    "    if len(soln)==n:\n",
    "        covered_zeros=n\n",
    "        continue\n",
    "        \n",
    "    \n",
    "    #Finding the minimum uncovered element\n",
    "    min_val=sys.maxsize\n",
    "    for i in range(n):\n",
    "        if i in disabled_rows:\n",
    "            continue\n",
    "        for j in range(n):\n",
    "            if j in disabled_columns:\n",
    "                continue\n",
    "            if mat[i][j]<min_val:\n",
    "                min_val=mat[i][j]\n",
    "                \n",
    "    for i in range(n):\n",
    "        for j in range(n):\n",
    "            one=False\n",
    "            two=False\n",
    "            if i in disabled_rows:\n",
    "                one=True\n",
    "            if j in disabled_columns:\n",
    "                two=True\n",
    "            if one and two:\n",
    "                mat[i][j]=mat[i][j]+min_val\n",
    "            elif one==False and two==False:\n",
    "                mat[i][j]=mat[i][j]-min_val                   \n",
    "    \n",
    "print(\"lol\")    "
   ]
  },
  {
   "cell_type": "code",
   "execution_count": 11,
   "metadata": {},
   "outputs": [
    {
     "name": "stdout",
     "output_type": "stream",
     "text": [
      "\n",
      "Solution:\n",
      "[(0, 4), (1, 0), (4, 3), (3, 1), (2, 2)]\n"
     ]
    }
   ],
   "source": [
    "print(\"\\nSolution:\")\n",
    "print(soln)"
   ]
  },
  {
   "cell_type": "code",
   "execution_count": null,
   "metadata": {},
   "outputs": [],
   "source": []
  },
  {
   "cell_type": "code",
   "execution_count": null,
   "metadata": {},
   "outputs": [],
   "source": []
  },
  {
   "cell_type": "code",
   "execution_count": null,
   "metadata": {},
   "outputs": [],
   "source": []
  }
 ],
 "metadata": {
  "kernelspec": {
   "display_name": "Python 3",
   "language": "python",
   "name": "python3"
  },
  "language_info": {
   "codemirror_mode": {
    "name": "ipython",
    "version": 3
   },
   "file_extension": ".py",
   "mimetype": "text/x-python",
   "name": "python",
   "nbconvert_exporter": "python",
   "pygments_lexer": "ipython3",
   "version": "3.7.3"
  }
 },
 "nbformat": 4,
 "nbformat_minor": 2
}
