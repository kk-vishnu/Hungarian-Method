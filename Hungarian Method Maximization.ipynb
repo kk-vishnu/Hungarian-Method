{
 "cells": [
  {
   "cell_type": "markdown",
   "metadata": {},
   "source": [
    "# <H1>Assignment Problem implemented using Hungarian Method (Maximization)</H1>"
   ]
  },
  {
   "cell_type": "markdown",
   "metadata": {},
   "source": [
    "Refer these:\n",
    "<br>\n",
    "https://en.wikipedia.org/wiki/Hungarian_algorithm \n",
    "<br>\n",
    "https://www.youtube.com/watch?v=rrfFTdO2Z7I"
   ]
  },
  {
   "cell_type": "code",
   "execution_count": 19,
   "metadata": {},
   "outputs": [],
   "source": [
    "import sys"
   ]
  },
  {
   "cell_type": "code",
   "execution_count": 20,
   "metadata": {},
   "outputs": [],
   "source": [
    "#Function to print a matrix\n",
    "def print_matrix(matrix):\n",
    "\tfor i in range(n):\n",
    "\t\tfor j in range(n):\n",
    "\t\t\tprint(matrix[i][j],end='\\t');\n",
    "\t\tprint()\n",
    "        "
   ]
  },
  {
   "cell_type": "code",
   "execution_count": 21,
   "metadata": {},
   "outputs": [],
   "source": [
    "#Function for row reduction\n",
    "def row_reduction(matrix):\n",
    "\tfor i in range(n):\n",
    "\t\tminidx=0\n",
    "\t\tfor j in range(1,n):\n",
    "\t\t\tif matrix[i][j]<matrix[i][minidx]:\n",
    "\t\t\t\tminidx=j;\n",
    "\t\tminele=matrix[i][minidx]\n",
    "\t\tfor j in range(n):\n",
    "\t\t\tmatrix[i][j]=matrix[i][j]-minele;\n",
    "\treturn matrix\n"
   ]
  },
  {
   "cell_type": "code",
   "execution_count": 22,
   "metadata": {},
   "outputs": [],
   "source": [
    "#Function for column reduction\n",
    "def column_reduction(matrix):\n",
    "\tfor j in range(n):\n",
    "\t\tminidx=0\n",
    "\t\tfor i in range(1,n):\n",
    "\t\t\tif matrix[i][j]<matrix[minidx][j]:\n",
    "\t\t\t\tminidx=i\n",
    "\t\tminele=matrix[minidx][j]\n",
    "\t\tfor i in range(n):\n",
    "\t\t\tmatrix[i][j]=matrix[i][j]-minele\n",
    "\treturn matrix\n"
   ]
  },
  {
   "cell_type": "code",
   "execution_count": 23,
   "metadata": {},
   "outputs": [
    {
     "name": "stdout",
     "output_type": "stream",
     "text": [
      "\n",
      "The  Assignment Matrix:\n",
      "\n",
      "9\t11\t14\t11\t7\t\n",
      "6\t15\t13\t13\t10\t\n",
      "12\t13\t6\t8\t8\t\n",
      "11\t9\t10\t12\t9\t\n",
      "7\t12\t14\t10\t14\t\n"
     ]
    }
   ],
   "source": [
    "#Taking input\n",
    "mat=[]\n",
    "with open('input', 'r') as f:\n",
    "    mat = [[int(num) for num in line.split(' ')] for line in f]\n",
    "n=len(mat)\n",
    "\n",
    "#Keeping a copy of the matrix to calculate total cost\n",
    "#Refer this: https://www.geeksforgeeks.org/copy-python-deep-copy-shallow-copy/\n",
    "from copy import deepcopy\n",
    "copy_matrix=deepcopy(mat)\n",
    "\n",
    "print(\"\\nThe  Assignment Matrix:\\n\")\n",
    "print_matrix(mat)"
   ]
  },
  {
   "cell_type": "code",
   "execution_count": 24,
   "metadata": {},
   "outputs": [
    {
     "name": "stdout",
     "output_type": "stream",
     "text": [
      "\n",
      "Opportunity Loss Matrix:\n",
      "6\t4\t1\t4\t8\t\n",
      "9\t0\t2\t2\t5\t\n",
      "3\t2\t9\t7\t7\t\n",
      "4\t6\t5\t3\t6\t\n",
      "8\t3\t1\t5\t1\t\n"
     ]
    }
   ],
   "source": [
    "#Calculating Opportunity Loss Matrix\n",
    "max_ele=mat[0][0]\n",
    "for i in range(n):\n",
    "    for j in range(n):\n",
    "        if mat[i][j]>max_ele:\n",
    "            max_ele=mat[i][j]\n",
    "            \n",
    "for i in range(n):\n",
    "    for j in range(n):\n",
    "        mat[i][j]=max_ele-mat[i][j]\n",
    "        \n",
    "print(\"\\nOpportunity Loss Matrix:\")\n",
    "print_matrix(mat)"
   ]
  },
  {
   "cell_type": "code",
   "execution_count": 25,
   "metadata": {},
   "outputs": [
    {
     "name": "stdout",
     "output_type": "stream",
     "text": [
      "\n",
      "Matrix after row reductions:\n",
      "\n",
      "5\t3\t0\t3\t7\t\n",
      "9\t0\t2\t2\t5\t\n",
      "1\t0\t7\t5\t5\t\n",
      "1\t3\t2\t0\t3\t\n",
      "7\t2\t0\t4\t0\t\n",
      "\n",
      "Matrix after column reductions:\n",
      "\n",
      "4\t3\t0\t3\t7\t\n",
      "8\t0\t2\t2\t5\t\n",
      "0\t0\t7\t5\t5\t\n",
      "0\t3\t2\t0\t3\t\n",
      "6\t2\t0\t4\t0\t\n"
     ]
    }
   ],
   "source": [
    "#Perfoming row and column reductions\n",
    "print(\"\\nMatrix after row reductions:\\n\")\t\n",
    "mat=row_reduction(mat)\n",
    "print_matrix(mat)\n",
    "\n",
    "print(\"\\nMatrix after column reductions:\\n\")\n",
    "mat=column_reduction(mat)\n",
    "print_matrix(mat)"
   ]
  },
  {
   "cell_type": "code",
   "execution_count": 26,
   "metadata": {},
   "outputs": [],
   "source": [
    "covered_zeros=0\n",
    "while 1:\n",
    "    if covered_zeros==n:\n",
    "        break\n",
    "    #print(\"Matrix rn:\")\n",
    "    #print(mat)\n",
    "    disabled_rows=[]\n",
    "    disabled_columns=[]\n",
    "    soln=[]\n",
    "    \n",
    "    #Row Scanning\n",
    "    for i in range(n):\n",
    "        zeros_in_row=0\n",
    "        zero_index=0\n",
    "        j=0\n",
    "        while j<n:\n",
    "            if j in disabled_columns:\n",
    "                j=j+1\n",
    "                continue\n",
    "            if mat[i][j]==0:\n",
    "                zeros_in_row=zeros_in_row+1;\n",
    "                zero_index=j\n",
    "            j=j+1            \n",
    "        if zeros_in_row==1:\n",
    "            soln.append((i,zero_index))\n",
    "            disabled_columns.append(zero_index)\n",
    "            \n",
    "    if len(soln)==n:\n",
    "        covered_zeros=n\n",
    "        continue\n",
    "        \n",
    "    #Column Scanning\n",
    "    for j in range(n):\n",
    "        if j in disabled_columns:\n",
    "            continue\n",
    "        zeros_in_column=0\n",
    "        zero_index=0\n",
    "        i=0\n",
    "        while i<n:\n",
    "            if i in disabled_rows:\n",
    "                i=i+1\n",
    "                continue\n",
    "            if mat[i][j]==0:\n",
    "                zeros_in_column=zeros_in_column+1\n",
    "                zero_index=i\n",
    "            i=i+1\n",
    "        if zeros_in_column==1:\n",
    "            soln.append((zero_index,j))\n",
    "            disabled_rows.append(zero_index)\n",
    "            \n",
    "    if len(soln)==n:\n",
    "        covered_zeros=n\n",
    "        continue\n",
    "        \n",
    "    \n",
    "    #Finding the minimum uncovered element\n",
    "    min_val=sys.maxsize\n",
    "    for i in range(n):\n",
    "        if i in disabled_rows:\n",
    "            continue\n",
    "        for j in range(n):\n",
    "            if j in disabled_columns:\n",
    "                continue\n",
    "            if mat[i][j]<min_val:\n",
    "                min_val=mat[i][j]\n",
    "                \n",
    "    for i in range(n):\n",
    "        for j in range(n):\n",
    "            one=False\n",
    "            two=False\n",
    "            if i in disabled_rows:\n",
    "                one=True\n",
    "            if j in disabled_columns:\n",
    "                two=True\n",
    "            if one and two:\n",
    "                mat[i][j]=mat[i][j]+min_val\n",
    "            elif one==False and two==False:\n",
    "                mat[i][j]=mat[i][j]-min_val                   "
   ]
  },
  {
   "cell_type": "code",
   "execution_count": 27,
   "metadata": {},
   "outputs": [
    {
     "name": "stdout",
     "output_type": "stream",
     "text": [
      "\n",
      "Original Matrix:\n",
      "\n",
      "9\t11\t14\t11\t7\t\n",
      "6\t15\t13\t13\t10\t\n",
      "12\t13\t6\t8\t8\t\n",
      "11\t9\t10\t12\t9\t\n",
      "7\t12\t14\t10\t14\t\n",
      "\n",
      "Solution:\n",
      "Person  1  should do job  3\n",
      "Person  2  should do job  2\n",
      "Person  3  should do job  1\n",
      "Person  4  should do job  4\n",
      "Person  5  should do job  5\n",
      "\n",
      "Total cost=  67\n"
     ]
    }
   ],
   "source": [
    "print(\"\\nOriginal Matrix:\\n\")\n",
    "print_matrix(copy_matrix)\n",
    "print(\"\\nSolution:\")\n",
    "cost=0\n",
    "for x in soln:\n",
    "    cost=cost+copy_matrix[x[0]][x[1]]\n",
    "    print(\"Person \",x[0]+1,\" should do job \",x[1]+1)\n",
    "print(\"\\nTotal cost= \",cost)"
   ]
  },
  {
   "cell_type": "code",
   "execution_count": null,
   "metadata": {},
   "outputs": [],
   "source": []
  }
 ],
 "metadata": {
  "kernelspec": {
   "display_name": "Python 3",
   "language": "python",
   "name": "python3"
  },
  "language_info": {
   "codemirror_mode": {
    "name": "ipython",
    "version": 3
   },
   "file_extension": ".py",
   "mimetype": "text/x-python",
   "name": "python",
   "nbconvert_exporter": "python",
   "pygments_lexer": "ipython3",
   "version": "3.7.3"
  }
 },
 "nbformat": 4,
 "nbformat_minor": 2
}
